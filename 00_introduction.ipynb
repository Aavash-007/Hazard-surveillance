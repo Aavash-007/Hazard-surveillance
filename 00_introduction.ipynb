{
 "cells": [
  {
   "cell_type": "markdown",
   "metadata": {},
   "source": [
    "# Disaster Risk Monitoring Using Satellite Imagery #"
   ]
  },
  {
   "cell_type": "markdown",
   "metadata": {},
   "source": [
    "### NVIDIA GPU Cloud ###\n",
    "This lab requires that the user have an NVIDIA GPU Cloud (NGC) account and API key.  If you have not done so already, please: \n",
    "1. [Register and activate a free NGC account](https://docs.nvidia.com/ngc/ngc-overview/index.html#registering-activating-ngc-account)\n",
    "2. [Generate your NGC API key](https://docs.nvidia.com/ngc/ngc-overview/index.html#generating-api-key) and save it in a safe location"
   ]
  },
  {
   "cell_type": "markdown",
   "metadata": {},
   "source": [
    "<a name='e2'></a>\n",
    "#### Exercise #2 - NGC CLI and Docker Registry ####\n",
    "\n",
    "**Instructions**: <br>\n",
    "* Edit the cell below by replacing `<MY_NGC_API_KEY>` with your key and execute the cell to set the variable. \n",
    "* Execute the cell below to create a configuration file for NGC. \n",
    "* Execute the cell below to move the newly created config file to `.ngc` to configure the NGC CLI. \n",
    "* Execute the cell below to log in to NGC's Docker registry.\n",
    "* Execute the cell below to pull the TAO container images."
   ]
  },
  {
   "cell_type": "code",
   "execution_count": 3,
   "metadata": {},
   "outputs": [],
   "source": [
    "apikey='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'"
   ]
  },
  {
   "cell_type": "code",
   "execution_count": 4,
   "metadata": {},
   "outputs": [
    {
     "name": "stdout",
     "output_type": "stream",
     "text": [
      ";WARNING - This is a machine generated file.  Do not edit manually.\n",
      ";WARNING - To update local config settings, see \"ngc config set -h\"\n",
      "\n",
      "[CURRENT]\n",
      "apikey=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\n",
      "format_type=json\n",
      "org=nvidia\n"
     ]
    }
   ],
   "source": [
    "# DO NOT CHANGE THIS CELL\n",
    "# write the config file\n",
    "config_dict={'apikey': apikey, 'format_type': 'json', 'org': 'nvidia'}\n",
    "with open('config', 'w') as f: \n",
    "    f.write(';WARNING - This is a machine generated file.  Do not edit manually.\\n')\n",
    "    f.write(';WARNING - To update local config settings, see \"ngc config set -h\"\\n')\n",
    "    f.write('\\n[CURRENT]\\n')\n",
    "    for k, v in config_dict.items(): \n",
    "        f.write(k+'='+v+'\\n')\n",
    "\n",
    "# preview the config file\n",
    "!cat config"
   ]
  },
  {
   "cell_type": "code",
   "execution_count": 5,
   "metadata": {},
   "outputs": [],
   "source": [
    "# DO NOT CHANGE THIS CELL\n",
    "# move the config file to ~/.ngc\n",
    "!mkdir -p ~/.ngc & mv config ~/.ngc/"
   ]
  },
  {
   "cell_type": "code",
   "execution_count": 6,
   "metadata": {},
   "outputs": [
    {
     "name": "stdout",
     "output_type": "stream",
     "text": [
      "WARNING! Using --password via the CLI is insecure. Use --password-stdin.\n",
      "WARNING! Your password will be stored unencrypted in /root/.docker/config.json.\n",
      "Configure a credential helper to remove this warning. See\n",
      "https://docs.docker.com/engine/reference/commandline/login/#credentials-store\n",
      "\n",
      "Login Succeeded\n"
     ]
    }
   ],
   "source": [
    "# DO NOT CHANGE THIS CELL\n",
    "# login to NGC's docker registry\n",
    "!docker login -u '$oauthtoken' -p $apikey nvcr.io"
   ]
  },
  {
   "cell_type": "code",
   "execution_count": null,
   "metadata": {
    "editable": true,
    "scrolled": true,
    "slideshow": {
     "slide_type": ""
    },
    "tags": []
   },
   "outputs": [],
   "source": [
    "# DO NOT CHANGE THIS CELL\n",
    "# pull TAO docker container images\n",
    "!docker pull nvcr.io/nvidia/tao/tao-toolkit:5.0.0-tf1.15.5\n",
    "!docker pull nvcr.io/nvidia/tao/tao-toolkit:5.5.0-deploy"
   ]
  }
 ],
 "metadata": {
  "kernelspec": {
   "display_name": "Python 3 (ipykernel)",
   "language": "python",
   "name": "python3"
  },
  "language_info": {
   "codemirror_mode": {
    "name": "ipython",
    "version": 3
   },
   "file_extension": ".py",
   "mimetype": "text/x-python",
   "name": "python",
   "nbconvert_exporter": "python",
   "pygments_lexer": "ipython3",
   "version": "3.10.12"
  }
 },
 "nbformat": 4,
 "nbformat_minor": 4
}
